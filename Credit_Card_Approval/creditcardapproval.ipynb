{
 "cells": [
  {
   "cell_type": "code",
   "execution_count": 16,
   "id": "5700b762",
   "metadata": {
    "execution": {
     "iopub.execute_input": "2024-02-14T03:36:59.045679Z",
     "iopub.status.busy": "2024-02-14T03:36:59.045034Z",
     "iopub.status.idle": "2024-02-14T03:37:00.296802Z",
     "shell.execute_reply": "2024-02-14T03:37:00.295645Z"
    },
    "papermill": {
     "duration": 1.263004,
     "end_time": "2024-02-14T03:37:00.299702",
     "exception": false,
     "start_time": "2024-02-14T03:36:59.036698",
     "status": "completed"
    },
    "tags": []
   },
   "outputs": [],
   "source": [
    "import numpy as np\n",
    "import pandas as pd\n",
    "from sklearn.preprocessing import OneHotEncoder\n",
    "from sklearn.compose import ColumnTransformer\n",
    "import sklearn\n",
    "from sklearn.preprocessing import StandardScaler\n"
   ]
  },
  {
   "cell_type": "markdown",
   "id": "80fe79e9",
   "metadata": {
    "papermill": {
     "duration": 0.00646,
     "end_time": "2024-02-14T03:37:00.313181",
     "exception": false,
     "start_time": "2024-02-14T03:37:00.306721",
     "status": "completed"
    },
    "tags": []
   },
   "source": [
    "Loading the Dataset:\n",
    "\n",
    "We load the dataset using Pandas' read_csv function, assuming the file is located at the specified path."
   ]
  },
  {
   "cell_type": "code",
   "execution_count": 17,
   "id": "5f5a347a",
   "metadata": {
    "execution": {
     "iopub.execute_input": "2024-02-14T03:37:00.329603Z",
     "iopub.status.busy": "2024-02-14T03:37:00.328226Z",
     "iopub.status.idle": "2024-02-14T03:37:00.582143Z",
     "shell.execute_reply": "2024-02-14T03:37:00.580457Z"
    },
    "papermill": {
     "duration": 0.265508,
     "end_time": "2024-02-14T03:37:00.585420",
     "exception": false,
     "start_time": "2024-02-14T03:37:00.319912",
     "status": "completed"
    },
    "tags": []
   },
   "outputs": [
    {
     "name": "stderr",
     "output_type": "stream",
     "text": [
      "<>:1: SyntaxWarning: invalid escape sequence '\\p'\n",
      "<>:1: SyntaxWarning: invalid escape sequence '\\p'\n",
      "C:\\Users\\Admin\\AppData\\Local\\Temp\\ipykernel_3160\\3234074241.py:1: SyntaxWarning: invalid escape sequence '\\p'\n",
      "  df = pd.read_csv(\"C:\\pythonProjects\\Credit_Card_Approval\\Application_Data.csv\")\n"
     ]
    }
   ],
   "source": [
    "df = pd.read_csv(\"C:\\pythonProjects\\Credit_Card_Approval\\Application_Data.csv\")"
   ]
  },
  {
   "cell_type": "code",
   "execution_count": 18,
   "id": "7d60fd3b",
   "metadata": {
    "execution": {
     "iopub.execute_input": "2024-02-14T03:37:00.601323Z",
     "iopub.status.busy": "2024-02-14T03:37:00.600576Z",
     "iopub.status.idle": "2024-02-14T03:37:00.639394Z",
     "shell.execute_reply": "2024-02-14T03:37:00.638317Z"
    },
    "papermill": {
     "duration": 0.050115,
     "end_time": "2024-02-14T03:37:00.642415",
     "exception": false,
     "start_time": "2024-02-14T03:37:00.592300",
     "status": "completed"
    },
    "tags": []
   },
   "outputs": [
    {
     "data": {
      "text/html": [
       "<div>\n",
       "<style scoped>\n",
       "    .dataframe tbody tr th:only-of-type {\n",
       "        vertical-align: middle;\n",
       "    }\n",
       "\n",
       "    .dataframe tbody tr th {\n",
       "        vertical-align: top;\n",
       "    }\n",
       "\n",
       "    .dataframe thead th {\n",
       "        text-align: right;\n",
       "    }\n",
       "</style>\n",
       "<table border=\"1\" class=\"dataframe\">\n",
       "  <thead>\n",
       "    <tr style=\"text-align: right;\">\n",
       "      <th></th>\n",
       "      <th>Applicant_ID</th>\n",
       "      <th>Applicant_Gender</th>\n",
       "      <th>Owned_Car</th>\n",
       "      <th>Owned_Realty</th>\n",
       "      <th>Total_Children</th>\n",
       "      <th>Total_Income</th>\n",
       "      <th>Income_Type</th>\n",
       "      <th>Education_Type</th>\n",
       "      <th>Family_Status</th>\n",
       "      <th>Housing_Type</th>\n",
       "      <th>...</th>\n",
       "      <th>Owned_Work_Phone</th>\n",
       "      <th>Owned_Phone</th>\n",
       "      <th>Owned_Email</th>\n",
       "      <th>Job_Title</th>\n",
       "      <th>Total_Family_Members</th>\n",
       "      <th>Applicant_Age</th>\n",
       "      <th>Years_of_Working</th>\n",
       "      <th>Total_Bad_Debt</th>\n",
       "      <th>Total_Good_Debt</th>\n",
       "      <th>Status</th>\n",
       "    </tr>\n",
       "  </thead>\n",
       "  <tbody>\n",
       "    <tr>\n",
       "      <th>0</th>\n",
       "      <td>5008806</td>\n",
       "      <td>M</td>\n",
       "      <td>1</td>\n",
       "      <td>1</td>\n",
       "      <td>0</td>\n",
       "      <td>112500</td>\n",
       "      <td>Working                                       ...</td>\n",
       "      <td>Secondary / secondary special                 ...</td>\n",
       "      <td>Married                                       ...</td>\n",
       "      <td>House / apartment                             ...</td>\n",
       "      <td>...</td>\n",
       "      <td>0</td>\n",
       "      <td>0</td>\n",
       "      <td>0</td>\n",
       "      <td>Security staff                                ...</td>\n",
       "      <td>2</td>\n",
       "      <td>59</td>\n",
       "      <td>4</td>\n",
       "      <td>0</td>\n",
       "      <td>30</td>\n",
       "      <td>1</td>\n",
       "    </tr>\n",
       "    <tr>\n",
       "      <th>1</th>\n",
       "      <td>5008808</td>\n",
       "      <td>F</td>\n",
       "      <td>0</td>\n",
       "      <td>1</td>\n",
       "      <td>0</td>\n",
       "      <td>270000</td>\n",
       "      <td>Commercial associate                          ...</td>\n",
       "      <td>Secondary / secondary special                 ...</td>\n",
       "      <td>Single / not married                          ...</td>\n",
       "      <td>House / apartment                             ...</td>\n",
       "      <td>...</td>\n",
       "      <td>0</td>\n",
       "      <td>1</td>\n",
       "      <td>1</td>\n",
       "      <td>Sales staff                                   ...</td>\n",
       "      <td>1</td>\n",
       "      <td>53</td>\n",
       "      <td>9</td>\n",
       "      <td>0</td>\n",
       "      <td>5</td>\n",
       "      <td>1</td>\n",
       "    </tr>\n",
       "    <tr>\n",
       "      <th>2</th>\n",
       "      <td>5008809</td>\n",
       "      <td>F</td>\n",
       "      <td>0</td>\n",
       "      <td>1</td>\n",
       "      <td>0</td>\n",
       "      <td>270000</td>\n",
       "      <td>Commercial associate                          ...</td>\n",
       "      <td>Secondary / secondary special                 ...</td>\n",
       "      <td>Single / not married                          ...</td>\n",
       "      <td>House / apartment                             ...</td>\n",
       "      <td>...</td>\n",
       "      <td>0</td>\n",
       "      <td>1</td>\n",
       "      <td>1</td>\n",
       "      <td>Sales staff                                   ...</td>\n",
       "      <td>1</td>\n",
       "      <td>53</td>\n",
       "      <td>9</td>\n",
       "      <td>0</td>\n",
       "      <td>5</td>\n",
       "      <td>1</td>\n",
       "    </tr>\n",
       "    <tr>\n",
       "      <th>3</th>\n",
       "      <td>5008810</td>\n",
       "      <td>F</td>\n",
       "      <td>0</td>\n",
       "      <td>1</td>\n",
       "      <td>0</td>\n",
       "      <td>270000</td>\n",
       "      <td>Commercial associate                          ...</td>\n",
       "      <td>Secondary / secondary special                 ...</td>\n",
       "      <td>Single / not married                          ...</td>\n",
       "      <td>House / apartment                             ...</td>\n",
       "      <td>...</td>\n",
       "      <td>0</td>\n",
       "      <td>1</td>\n",
       "      <td>1</td>\n",
       "      <td>Sales staff                                   ...</td>\n",
       "      <td>1</td>\n",
       "      <td>53</td>\n",
       "      <td>9</td>\n",
       "      <td>0</td>\n",
       "      <td>27</td>\n",
       "      <td>1</td>\n",
       "    </tr>\n",
       "    <tr>\n",
       "      <th>4</th>\n",
       "      <td>5008811</td>\n",
       "      <td>F</td>\n",
       "      <td>0</td>\n",
       "      <td>1</td>\n",
       "      <td>0</td>\n",
       "      <td>270000</td>\n",
       "      <td>Commercial associate                          ...</td>\n",
       "      <td>Secondary / secondary special                 ...</td>\n",
       "      <td>Single / not married                          ...</td>\n",
       "      <td>House / apartment                             ...</td>\n",
       "      <td>...</td>\n",
       "      <td>0</td>\n",
       "      <td>1</td>\n",
       "      <td>1</td>\n",
       "      <td>Sales staff                                   ...</td>\n",
       "      <td>1</td>\n",
       "      <td>53</td>\n",
       "      <td>9</td>\n",
       "      <td>0</td>\n",
       "      <td>39</td>\n",
       "      <td>1</td>\n",
       "    </tr>\n",
       "  </tbody>\n",
       "</table>\n",
       "<p>5 rows × 21 columns</p>\n",
       "</div>"
      ],
      "text/plain": [
       "   Applicant_ID Applicant_Gender  Owned_Car  Owned_Realty  Total_Children  \\\n",
       "0       5008806          M                1             1               0   \n",
       "1       5008808          F                0             1               0   \n",
       "2       5008809          F                0             1               0   \n",
       "3       5008810          F                0             1               0   \n",
       "4       5008811          F                0             1               0   \n",
       "\n",
       "   Total_Income                                        Income_Type  \\\n",
       "0        112500  Working                                       ...   \n",
       "1        270000  Commercial associate                          ...   \n",
       "2        270000  Commercial associate                          ...   \n",
       "3        270000  Commercial associate                          ...   \n",
       "4        270000  Commercial associate                          ...   \n",
       "\n",
       "                                      Education_Type  \\\n",
       "0  Secondary / secondary special                 ...   \n",
       "1  Secondary / secondary special                 ...   \n",
       "2  Secondary / secondary special                 ...   \n",
       "3  Secondary / secondary special                 ...   \n",
       "4  Secondary / secondary special                 ...   \n",
       "\n",
       "                                       Family_Status  \\\n",
       "0  Married                                       ...   \n",
       "1  Single / not married                          ...   \n",
       "2  Single / not married                          ...   \n",
       "3  Single / not married                          ...   \n",
       "4  Single / not married                          ...   \n",
       "\n",
       "                                        Housing_Type  ...  Owned_Work_Phone  \\\n",
       "0  House / apartment                             ...  ...                 0   \n",
       "1  House / apartment                             ...  ...                 0   \n",
       "2  House / apartment                             ...  ...                 0   \n",
       "3  House / apartment                             ...  ...                 0   \n",
       "4  House / apartment                             ...  ...                 0   \n",
       "\n",
       "   Owned_Phone  Owned_Email  \\\n",
       "0            0            0   \n",
       "1            1            1   \n",
       "2            1            1   \n",
       "3            1            1   \n",
       "4            1            1   \n",
       "\n",
       "                                           Job_Title Total_Family_Members  \\\n",
       "0  Security staff                                ...                    2   \n",
       "1  Sales staff                                   ...                    1   \n",
       "2  Sales staff                                   ...                    1   \n",
       "3  Sales staff                                   ...                    1   \n",
       "4  Sales staff                                   ...                    1   \n",
       "\n",
       "   Applicant_Age  Years_of_Working  Total_Bad_Debt  Total_Good_Debt  Status  \n",
       "0             59                 4               0               30       1  \n",
       "1             53                 9               0                5       1  \n",
       "2             53                 9               0                5       1  \n",
       "3             53                 9               0               27       1  \n",
       "4             53                 9               0               39       1  \n",
       "\n",
       "[5 rows x 21 columns]"
      ]
     },
     "execution_count": 18,
     "metadata": {},
     "output_type": "execute_result"
    }
   ],
   "source": [
    "df.head()"
   ]
  },
  {
   "cell_type": "code",
   "execution_count": 19,
   "id": "35a49178",
   "metadata": {
    "execution": {
     "iopub.execute_input": "2024-02-14T03:37:00.659455Z",
     "iopub.status.busy": "2024-02-14T03:37:00.658966Z",
     "iopub.status.idle": "2024-02-14T03:37:00.668376Z",
     "shell.execute_reply": "2024-02-14T03:37:00.667105Z"
    },
    "papermill": {
     "duration": 0.021333,
     "end_time": "2024-02-14T03:37:00.671219",
     "exception": false,
     "start_time": "2024-02-14T03:37:00.649886",
     "status": "completed"
    },
    "tags": []
   },
   "outputs": [
    {
     "data": {
      "text/plain": [
       "Applicant_ID             int64\n",
       "Applicant_Gender        object\n",
       "Owned_Car                int64\n",
       "Owned_Realty             int64\n",
       "Total_Children           int64\n",
       "Total_Income             int64\n",
       "Income_Type             object\n",
       "Education_Type          object\n",
       "Family_Status           object\n",
       "Housing_Type            object\n",
       "Owned_Mobile_Phone       int64\n",
       "Owned_Work_Phone         int64\n",
       "Owned_Phone              int64\n",
       "Owned_Email              int64\n",
       "Job_Title               object\n",
       "Total_Family_Members     int64\n",
       "Applicant_Age            int64\n",
       "Years_of_Working         int64\n",
       "Total_Bad_Debt           int64\n",
       "Total_Good_Debt          int64\n",
       "Status                   int64\n",
       "dtype: object"
      ]
     },
     "execution_count": 19,
     "metadata": {},
     "output_type": "execute_result"
    }
   ],
   "source": [
    "df.dtypes"
   ]
  },
  {
   "cell_type": "markdown",
   "id": "837a487b",
   "metadata": {
    "papermill": {
     "duration": 0.007173,
     "end_time": "2024-02-14T03:37:00.685979",
     "exception": false,
     "start_time": "2024-02-14T03:37:00.678806",
     "status": "completed"
    },
    "tags": []
   },
   "source": [
    "Data Preprocessing:\n",
    "\n",
    "Dropping Unnecessary Columns:\n",
    "We drop the columns 'Applicant_ID' and 'Job_Title' from the dataset as they are not relevant for our analysis or modeling."
   ]
  },
  {
   "cell_type": "code",
   "execution_count": 20,
   "id": "39be1904",
   "metadata": {
    "execution": {
     "iopub.execute_input": "2024-02-14T03:37:00.703275Z",
     "iopub.status.busy": "2024-02-14T03:37:00.702763Z",
     "iopub.status.idle": "2024-02-14T03:37:00.712357Z",
     "shell.execute_reply": "2024-02-14T03:37:00.711178Z"
    },
    "papermill": {
     "duration": 0.021355,
     "end_time": "2024-02-14T03:37:00.714958",
     "exception": false,
     "start_time": "2024-02-14T03:37:00.693603",
     "status": "completed"
    },
    "tags": []
   },
   "outputs": [],
   "source": [
    "df.drop(['Applicant_ID', 'Job_Title'], axis=1, inplace=True)"
   ]
  },
  {
   "cell_type": "markdown",
   "id": "ccbd4644",
   "metadata": {
    "papermill": {
     "duration": 0.006994,
     "end_time": "2024-02-14T03:37:00.729554",
     "exception": false,
     "start_time": "2024-02-14T03:37:00.722560",
     "status": "completed"
    },
    "tags": []
   },
   "source": [
    "Splitting Data into Features and Target:\n",
    "\n",
    "We separate the target variable ('Status') from the features by assigning it to the variable y, and the remaining columns to the variable X."
   ]
  },
  {
   "cell_type": "code",
   "execution_count": 21,
   "id": "1a2d0415",
   "metadata": {
    "execution": {
     "iopub.execute_input": "2024-02-14T03:37:00.746426Z",
     "iopub.status.busy": "2024-02-14T03:37:00.745943Z",
     "iopub.status.idle": "2024-02-14T03:37:00.771092Z",
     "shell.execute_reply": "2024-02-14T03:37:00.770064Z"
    },
    "papermill": {
     "duration": 0.036601,
     "end_time": "2024-02-14T03:37:00.773451",
     "exception": false,
     "start_time": "2024-02-14T03:37:00.736850",
     "status": "completed"
    },
    "tags": []
   },
   "outputs": [
    {
     "data": {
      "text/html": [
       "<div>\n",
       "<style scoped>\n",
       "    .dataframe tbody tr th:only-of-type {\n",
       "        vertical-align: middle;\n",
       "    }\n",
       "\n",
       "    .dataframe tbody tr th {\n",
       "        vertical-align: top;\n",
       "    }\n",
       "\n",
       "    .dataframe thead th {\n",
       "        text-align: right;\n",
       "    }\n",
       "</style>\n",
       "<table border=\"1\" class=\"dataframe\">\n",
       "  <thead>\n",
       "    <tr style=\"text-align: right;\">\n",
       "      <th></th>\n",
       "      <th>Applicant_Gender</th>\n",
       "      <th>Owned_Car</th>\n",
       "      <th>Owned_Realty</th>\n",
       "      <th>Total_Children</th>\n",
       "      <th>Total_Income</th>\n",
       "      <th>Income_Type</th>\n",
       "      <th>Education_Type</th>\n",
       "      <th>Family_Status</th>\n",
       "      <th>Housing_Type</th>\n",
       "      <th>Owned_Mobile_Phone</th>\n",
       "      <th>Owned_Work_Phone</th>\n",
       "      <th>Owned_Phone</th>\n",
       "      <th>Owned_Email</th>\n",
       "      <th>Total_Family_Members</th>\n",
       "      <th>Applicant_Age</th>\n",
       "      <th>Years_of_Working</th>\n",
       "      <th>Total_Bad_Debt</th>\n",
       "      <th>Total_Good_Debt</th>\n",
       "    </tr>\n",
       "  </thead>\n",
       "  <tbody>\n",
       "    <tr>\n",
       "      <th>0</th>\n",
       "      <td>M</td>\n",
       "      <td>1</td>\n",
       "      <td>1</td>\n",
       "      <td>0</td>\n",
       "      <td>112500</td>\n",
       "      <td>Working                                       ...</td>\n",
       "      <td>Secondary / secondary special                 ...</td>\n",
       "      <td>Married                                       ...</td>\n",
       "      <td>House / apartment                             ...</td>\n",
       "      <td>1</td>\n",
       "      <td>0</td>\n",
       "      <td>0</td>\n",
       "      <td>0</td>\n",
       "      <td>2</td>\n",
       "      <td>59</td>\n",
       "      <td>4</td>\n",
       "      <td>0</td>\n",
       "      <td>30</td>\n",
       "    </tr>\n",
       "    <tr>\n",
       "      <th>1</th>\n",
       "      <td>F</td>\n",
       "      <td>0</td>\n",
       "      <td>1</td>\n",
       "      <td>0</td>\n",
       "      <td>270000</td>\n",
       "      <td>Commercial associate                          ...</td>\n",
       "      <td>Secondary / secondary special                 ...</td>\n",
       "      <td>Single / not married                          ...</td>\n",
       "      <td>House / apartment                             ...</td>\n",
       "      <td>1</td>\n",
       "      <td>0</td>\n",
       "      <td>1</td>\n",
       "      <td>1</td>\n",
       "      <td>1</td>\n",
       "      <td>53</td>\n",
       "      <td>9</td>\n",
       "      <td>0</td>\n",
       "      <td>5</td>\n",
       "    </tr>\n",
       "    <tr>\n",
       "      <th>2</th>\n",
       "      <td>F</td>\n",
       "      <td>0</td>\n",
       "      <td>1</td>\n",
       "      <td>0</td>\n",
       "      <td>270000</td>\n",
       "      <td>Commercial associate                          ...</td>\n",
       "      <td>Secondary / secondary special                 ...</td>\n",
       "      <td>Single / not married                          ...</td>\n",
       "      <td>House / apartment                             ...</td>\n",
       "      <td>1</td>\n",
       "      <td>0</td>\n",
       "      <td>1</td>\n",
       "      <td>1</td>\n",
       "      <td>1</td>\n",
       "      <td>53</td>\n",
       "      <td>9</td>\n",
       "      <td>0</td>\n",
       "      <td>5</td>\n",
       "    </tr>\n",
       "    <tr>\n",
       "      <th>3</th>\n",
       "      <td>F</td>\n",
       "      <td>0</td>\n",
       "      <td>1</td>\n",
       "      <td>0</td>\n",
       "      <td>270000</td>\n",
       "      <td>Commercial associate                          ...</td>\n",
       "      <td>Secondary / secondary special                 ...</td>\n",
       "      <td>Single / not married                          ...</td>\n",
       "      <td>House / apartment                             ...</td>\n",
       "      <td>1</td>\n",
       "      <td>0</td>\n",
       "      <td>1</td>\n",
       "      <td>1</td>\n",
       "      <td>1</td>\n",
       "      <td>53</td>\n",
       "      <td>9</td>\n",
       "      <td>0</td>\n",
       "      <td>27</td>\n",
       "    </tr>\n",
       "    <tr>\n",
       "      <th>4</th>\n",
       "      <td>F</td>\n",
       "      <td>0</td>\n",
       "      <td>1</td>\n",
       "      <td>0</td>\n",
       "      <td>270000</td>\n",
       "      <td>Commercial associate                          ...</td>\n",
       "      <td>Secondary / secondary special                 ...</td>\n",
       "      <td>Single / not married                          ...</td>\n",
       "      <td>House / apartment                             ...</td>\n",
       "      <td>1</td>\n",
       "      <td>0</td>\n",
       "      <td>1</td>\n",
       "      <td>1</td>\n",
       "      <td>1</td>\n",
       "      <td>53</td>\n",
       "      <td>9</td>\n",
       "      <td>0</td>\n",
       "      <td>39</td>\n",
       "    </tr>\n",
       "  </tbody>\n",
       "</table>\n",
       "</div>"
      ],
      "text/plain": [
       "  Applicant_Gender  Owned_Car  Owned_Realty  Total_Children  Total_Income  \\\n",
       "0          M                1             1               0        112500   \n",
       "1          F                0             1               0        270000   \n",
       "2          F                0             1               0        270000   \n",
       "3          F                0             1               0        270000   \n",
       "4          F                0             1               0        270000   \n",
       "\n",
       "                                         Income_Type  \\\n",
       "0  Working                                       ...   \n",
       "1  Commercial associate                          ...   \n",
       "2  Commercial associate                          ...   \n",
       "3  Commercial associate                          ...   \n",
       "4  Commercial associate                          ...   \n",
       "\n",
       "                                      Education_Type  \\\n",
       "0  Secondary / secondary special                 ...   \n",
       "1  Secondary / secondary special                 ...   \n",
       "2  Secondary / secondary special                 ...   \n",
       "3  Secondary / secondary special                 ...   \n",
       "4  Secondary / secondary special                 ...   \n",
       "\n",
       "                                       Family_Status  \\\n",
       "0  Married                                       ...   \n",
       "1  Single / not married                          ...   \n",
       "2  Single / not married                          ...   \n",
       "3  Single / not married                          ...   \n",
       "4  Single / not married                          ...   \n",
       "\n",
       "                                        Housing_Type  Owned_Mobile_Phone  \\\n",
       "0  House / apartment                             ...                   1   \n",
       "1  House / apartment                             ...                   1   \n",
       "2  House / apartment                             ...                   1   \n",
       "3  House / apartment                             ...                   1   \n",
       "4  House / apartment                             ...                   1   \n",
       "\n",
       "   Owned_Work_Phone  Owned_Phone  Owned_Email  Total_Family_Members  \\\n",
       "0                 0            0            0                     2   \n",
       "1                 0            1            1                     1   \n",
       "2                 0            1            1                     1   \n",
       "3                 0            1            1                     1   \n",
       "4                 0            1            1                     1   \n",
       "\n",
       "   Applicant_Age  Years_of_Working  Total_Bad_Debt  Total_Good_Debt  \n",
       "0             59                 4               0               30  \n",
       "1             53                 9               0                5  \n",
       "2             53                 9               0                5  \n",
       "3             53                 9               0               27  \n",
       "4             53                 9               0               39  "
      ]
     },
     "execution_count": 21,
     "metadata": {},
     "output_type": "execute_result"
    }
   ],
   "source": [
    "y= df[\"Status\"]\n",
    "y.head()\n",
    "X= df.drop('Status', axis=1)\n",
    "X.head()"
   ]
  },
  {
   "cell_type": "markdown",
   "id": "c1ba7ad3",
   "metadata": {
    "papermill": {
     "duration": 0.007553,
     "end_time": "2024-02-14T03:37:00.788953",
     "exception": false,
     "start_time": "2024-02-14T03:37:00.781400",
     "status": "completed"
    },
    "tags": []
   },
   "source": [
    "One-Hot Encoding Categorical Features:\n",
    "\n",
    "We identify categorical features in the dataset and perform one-hot encoding using the OneHotEncoder from scikit-learn. This process converts categorical variables into binary vectors."
   ]
  },
  {
   "cell_type": "markdown",
   "id": "211659bc",
   "metadata": {
    "papermill": {
     "duration": 0.007718,
     "end_time": "2024-02-14T03:37:00.804605",
     "exception": false,
     "start_time": "2024-02-14T03:37:00.796887",
     "status": "completed"
    },
    "tags": []
   },
   "source": [
    "Scaling Numerical Features:\n",
    "\n",
    "We standardize the numerical features using StandardScaler from scikit-learn. Standardization helps in bringing all features to the same scale, which is important for many machine learning algorithms."
   ]
  },
  {
   "cell_type": "code",
   "execution_count": 22,
   "id": "b33cc1e7",
   "metadata": {
    "execution": {
     "iopub.execute_input": "2024-02-14T03:37:00.823426Z",
     "iopub.status.busy": "2024-02-14T03:37:00.822546Z",
     "iopub.status.idle": "2024-02-14T03:37:00.913916Z",
     "shell.execute_reply": "2024-02-14T03:37:00.912536Z"
    },
    "papermill": {
     "duration": 0.104314,
     "end_time": "2024-02-14T03:37:00.917167",
     "exception": false,
     "start_time": "2024-02-14T03:37:00.812853",
     "status": "completed"
    },
    "tags": []
   },
   "outputs": [],
   "source": [
    "categorical_features = [\"Applicant_Gender\",  \"Income_Type\",\"Education_Type\",\"Family_Status\", \"Housing_Type\"]\n",
    "\n",
    "one_hot = OneHotEncoder()\n",
    "\n",
    "transformer = ColumnTransformer([(\"one_hot\", \n",
    "                                  one_hot, \n",
    "                                  categorical_features)],\n",
    "                                  remainder=\"passthrough\") \n",
    "transformed_X = transformer.fit_transform(X)\n",
    "transformed_X\n",
    "\n",
    "scaler = StandardScaler()\n",
    "numerical_cols = ['Total_Income', 'Applicant_Age', 'Years_of_Working','Total_Good_Debt']\n",
    "df[numerical_cols] = scaler.fit_transform(df[numerical_cols])"
   ]
  },
  {
   "cell_type": "markdown",
   "id": "3a5ff960",
   "metadata": {
    "papermill": {
     "duration": 0.007498,
     "end_time": "2024-02-14T03:37:00.933118",
     "exception": false,
     "start_time": "2024-02-14T03:37:00.925620",
     "status": "completed"
    },
    "tags": []
   },
   "source": [
    "Model Training and Evaluation:\n",
    "\n",
    "Splitting Data into Train and Test Sets:\n",
    "We split the data into training and testing sets using train_test_split from scikit-learn. This allows us to evaluate the model's performance on unseen data.\n",
    "Model Initialization and Training:\n",
    "We initialize a Random Forest Classifier model and train it using the training data.\n",
    "Model Evaluation:\n",
    "We evaluate the trained model's performance on the test data using the score method to calculate the accuracy."
   ]
  },
  {
   "cell_type": "code",
   "execution_count": 23,
   "id": "4aeee48a",
   "metadata": {
    "execution": {
     "iopub.execute_input": "2024-02-14T03:37:00.952518Z",
     "iopub.status.busy": "2024-02-14T03:37:00.951976Z",
     "iopub.status.idle": "2024-02-14T03:37:03.139333Z",
     "shell.execute_reply": "2024-02-14T03:37:03.138261Z"
    },
    "papermill": {
     "duration": 2.20145,
     "end_time": "2024-02-14T03:37:03.142436",
     "exception": false,
     "start_time": "2024-02-14T03:37:00.940986",
     "status": "completed"
    },
    "tags": []
   },
   "outputs": [
    {
     "data": {
      "text/plain": [
       "0.9978113808197374"
      ]
     },
     "execution_count": 23,
     "metadata": {},
     "output_type": "execute_result"
    }
   ],
   "source": [
    "from sklearn.ensemble import RandomForestClassifier\n",
    "from sklearn.model_selection import train_test_split\n",
    "np.random.seed(42)\n",
    "\n",
    "X_train, X_test, y_train, y_test = train_test_split(transformed_X,\n",
    "                                                    y,\n",
    "                                                    test_size=0.2)\n",
    "\n",
    "model = RandomForestClassifier()\n",
    "\n",
    "model.fit(X_train, y_train)\n",
    "\n",
    "model.score(X_test, y_test)\n",
    "\n"
   ]
  },
  {
   "cell_type": "markdown",
   "id": "abc8c9c4",
   "metadata": {
    "papermill": {
     "duration": 0.008355,
     "end_time": "2024-02-14T03:37:03.159985",
     "exception": false,
     "start_time": "2024-02-14T03:37:03.151630",
     "status": "completed"
    },
    "tags": []
   },
   "source": [
    "Performance Metrics Calculation:\n",
    "\n",
    "We calculate additional performance metrics such as accuracy, precision, and recall using functions from scikit-learn (accuracy_score, precision_score, recall_score)."
   ]
  },
  {
   "cell_type": "markdown",
   "id": "f59b801e",
   "metadata": {
    "papermill": {
     "duration": 0.007667,
     "end_time": "2024-02-14T03:37:03.175790",
     "exception": false,
     "start_time": "2024-02-14T03:37:03.168123",
     "status": "completed"
    },
    "tags": []
   },
   "source": [
    "Printing Performance Metrics:\n",
    "\n",
    "We print out the calculated accuracy, precision, and recall scores to assess the model's performance."
   ]
  },
  {
   "cell_type": "code",
   "execution_count": 24,
   "id": "a5c180a4",
   "metadata": {
    "execution": {
     "iopub.execute_input": "2024-02-14T03:37:03.194512Z",
     "iopub.status.busy": "2024-02-14T03:37:03.193977Z",
     "iopub.status.idle": "2024-02-14T03:37:03.267649Z",
     "shell.execute_reply": "2024-02-14T03:37:03.266047Z"
    },
    "papermill": {
     "duration": 0.086871,
     "end_time": "2024-02-14T03:37:03.270668",
     "exception": false,
     "start_time": "2024-02-14T03:37:03.183797",
     "status": "completed"
    },
    "tags": []
   },
   "outputs": [
    {
     "name": "stdout",
     "output_type": "stream",
     "text": [
      "Accuracy: 0.9978113808197374\n",
      "Precision: 0.9978048293753742\n",
      "Recall: 1.0\n"
     ]
    }
   ],
   "source": [
    "from sklearn.metrics import accuracy_score, precision_score, recall_score, confusion_matrix\n",
    "y_pred= model.predict(X_test)\n",
    "\n",
    "accuracy = accuracy_score(y_test, y_pred)\n",
    "print(\"Accuracy:\", accuracy)\n",
    "\n",
    "precision = precision_score(y_test, y_pred)\n",
    "print(\"Precision:\", precision)\n",
    "\n",
    "recall = recall_score(y_test, y_pred)\n",
    "print(\"Recall:\", recall)"
   ]
  },
  {
   "cell_type": "code",
   "execution_count": null,
   "id": "95e061b6",
   "metadata": {
    "papermill": {
     "duration": 0.007811,
     "end_time": "2024-02-14T03:37:03.286764",
     "exception": false,
     "start_time": "2024-02-14T03:37:03.278953",
     "status": "completed"
    },
    "tags": []
   },
   "outputs": [],
   "source": []
  }
 ],
 "metadata": {
  "kaggle": {
   "accelerator": "none",
   "dataSources": [
    {
     "datasetId": 1880661,
     "sourceId": 3264572,
     "sourceType": "datasetVersion"
    }
   ],
   "dockerImageVersionId": 30646,
   "isGpuEnabled": false,
   "isInternetEnabled": true,
   "language": "python",
   "sourceType": "notebook"
  },
  "kernelspec": {
   "display_name": "Python 3",
   "language": "python",
   "name": "python3"
  },
  "language_info": {
   "codemirror_mode": {
    "name": "ipython",
    "version": 3
   },
   "file_extension": ".py",
   "mimetype": "text/x-python",
   "name": "python",
   "nbconvert_exporter": "python",
   "pygments_lexer": "ipython3",
   "version": "3.12.3"
  },
  "papermill": {
   "default_parameters": {},
   "duration": 9.564674,
   "end_time": "2024-02-14T03:37:04.219777",
   "environment_variables": {},
   "exception": null,
   "input_path": "__notebook__.ipynb",
   "output_path": "__notebook__.ipynb",
   "parameters": {},
   "start_time": "2024-02-14T03:36:54.655103",
   "version": "2.5.0"
  }
 },
 "nbformat": 4,
 "nbformat_minor": 5
}
